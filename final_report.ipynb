{
 "cells": [
  {
   "cell_type": "markdown",
   "id": "347f80c3-ed5f-40f0-bd76-15b20b30a839",
   "metadata": {},
   "source": [
    "# Telco Churn Report"
   ]
  },
  {
   "cell_type": "markdown",
   "id": "94de2207-d446-4da3-9396-d3aa5beb2e2c",
   "metadata": {},
   "source": [
    "## Project Goal\n",
    "\n",
    "- Identify Key Churn Drivers: Determine the primary factors influencing customer churn at Telco by conducting a thorough analysis of customer data.\n",
    "- Develop Predictive Models: Build accurate machine learning models that predict customer churn based on historical data.\n",
    "- Provide Actionable Insights: Translate complex data analysis into actionable insights and recommendations for Telco.\n",
    "- Long-Term Churn Prevention: Extend the project's impact beyond immediate insights by creating a roadmap for ongoing churn prevention."
   ]
  },
  {
   "cell_type": "code",
   "execution_count": 31,
   "id": "446fd200-b40b-4c6f-a5c5-8414ad504e05",
   "metadata": {},
   "outputs": [],
   "source": [
    "import pandas as pd\n",
    "import seaborn as sns\n",
    "import matplotlib.pyplot as plt\n",
    "\n",
    "from wrangle import train_val_test\n",
    "from sklearn.preprocessing import MinMaxScaler\n",
    "from prepare import get_telco_data, encode_columns\n",
    "from sklearn.neighbors import KNeighborsClassifier\n",
    "from explore import perform_chi_squared_test, perform_t_test, create_churn_plots, create_tech_support_churn_plot, create_tenure_churn_boxplot, create_contract_type_churn_plot, create_internet_service_churn_plot\n",
    "\n",
    "from modeling import x_y_split, train_decision_tree, train_random_forest, train_knn, train_logistic_regression, test_knn, generate_knn_predictions, generate_knn_predictions"
   ]
  },
  {
   "cell_type": "markdown",
   "id": "f32ca1ba-3ac3-4e45-a52e-b57656d88c1f",
   "metadata": {
    "jp-MarkdownHeadingCollapsed": true
   },
   "source": [
    "## Acquire\n",
    "\n",
    "- Acquiring specific columns that i need for the project from the telco_churn dataset using sql.\n",
    "- Read the sql query into a dataframe.\n",
    "- It contained 7_043 rows and 24 columns before cleaning"
   ]
  },
  {
   "cell_type": "markdown",
   "id": "c5002ce7-f3a9-424a-9653-44584b7c24bc",
   "metadata": {},
   "source": [
    "## Prepare data\n",
    "\n",
    "* Create new columns by transforming and utilizing existing data features.\n",
    "    - Drop the customer_id column\n",
    "    - Check all rows in the df with no/null values and replacing them with an appropriate value.\n",
    "    - Group different values in the columns and make them categorical if needed.\n",
    "    - One-hot encode categorical culomns with get dummies.\n",
    "    - Drop all the encoded columns that are not useful."
   ]
  },
  {
   "cell_type": "markdown",
   "id": "44192ddb-842d-4aa7-a033-6391001a3d75",
   "metadata": {},
   "source": [
    "## Data Dictionary\n",
    "\n",
    "| Feature                | Definition | Data Type |\n",
    "|:-----------------------|:-----------|:----------|\n",
    "| customer_id            | customers unique identification number | Object |\n",
    "| gender                 | Gender of the customer | Object |\n",
    "| senior_citizen         | 0 if not a senior citizen, 1 if a senior citizen | Integer |\n",
    "| partner                | Whether the customer has a partner (Yes/No) | Object |\n",
    "| dependents             | Whether the customer has dependents (Yes/No) | Object |\n",
    "| tenure                 | Number of months the customer has been with the company | Integer |\n",
    "| phone_service          | Whether the customer has phone service (Yes/No) | Object |\n",
    "| multiple_lines         | Whether the customer has multiple lines (Yes/No) | Object |\n",
    "| online_security        | Whether the customer has online security (Yes/No) | Object |\n",
    "| online_backup          | Whether the customer has online backup (Yes/No) | Object |\n",
    "| device_protection      | Whether the customer has device protection (Yes/No) | Object |\n",
    "| tech_support           | Whether the customer has tech support (Yes/No) | Object |\n",
    "| streaming_tv           | Whether the customer has streaming TV (Yes/No) | Object |\n",
    "| streaming_movies       | Whether the customer has streaming movies (Yes/No) | Object |\n",
    "| paperless_billing      | Whether the customer has paperless billing (Yes/No) | Object |\n",
    "| monthly_charges        | Monthly charges for the customer | Float |\n",
    "| total_charges          | Total charges incurred by the customer | Object |\n",
    "| churn                  | Whether the customer has churned (Yes/No) | Object |\n",
    "| payment_type           | Method of payment for the service | Object |\n",
    "| contract_type          | Type of contract (e.g., Month-to-Month, One/Two Years) | Object |\n",
    "| internet_service_type  | Type of internet service (e.g., DSL, Fiber optic) | Object |\n"
   ]
  },
  {
   "cell_type": "code",
   "execution_count": 32,
   "id": "bdc6bf8d-5a31-490e-bc35-c0f3051f5364",
   "metadata": {},
   "outputs": [],
   "source": [
    "# acquiring, cleaning, and adding features to data\n",
    "telco_df = get_telco_data()\n",
    "\n",
    "# splitting data into train, validate, and test\n",
    "train, val, test = train_val_test(telco_df, strat = 'churn')"
   ]
  },
  {
   "cell_type": "markdown",
   "id": "8d21ef09-3e65-41fa-bb31-a84a843b1a88",
   "metadata": {},
   "source": [
    "### A quick overview of the data"
   ]
  },
  {
   "cell_type": "code",
   "execution_count": 33,
   "id": "f37ee668-ccf2-461e-b374-56cd685ed147",
   "metadata": {},
   "outputs": [
    {
     "data": {
      "text/html": [
       "<div>\n",
       "<style scoped>\n",
       "    .dataframe tbody tr th:only-of-type {\n",
       "        vertical-align: middle;\n",
       "    }\n",
       "\n",
       "    .dataframe tbody tr th {\n",
       "        vertical-align: top;\n",
       "    }\n",
       "\n",
       "    .dataframe thead th {\n",
       "        text-align: right;\n",
       "    }\n",
       "</style>\n",
       "<table border=\"1\" class=\"dataframe\">\n",
       "  <thead>\n",
       "    <tr style=\"text-align: right;\">\n",
       "      <th></th>\n",
       "      <th>customer_id</th>\n",
       "      <th>gender</th>\n",
       "      <th>senior_citizen</th>\n",
       "      <th>partner</th>\n",
       "      <th>dependents</th>\n",
       "      <th>tenure</th>\n",
       "      <th>phone_service</th>\n",
       "      <th>multiple_lines</th>\n",
       "      <th>online_security</th>\n",
       "      <th>online_backup</th>\n",
       "      <th>...</th>\n",
       "      <th>tech_support</th>\n",
       "      <th>streaming_tv</th>\n",
       "      <th>streaming_movies</th>\n",
       "      <th>paperless_billing</th>\n",
       "      <th>monthly_charges</th>\n",
       "      <th>total_charges</th>\n",
       "      <th>churn</th>\n",
       "      <th>payment_type</th>\n",
       "      <th>contract_type</th>\n",
       "      <th>internet_service_type</th>\n",
       "    </tr>\n",
       "  </thead>\n",
       "  <tbody>\n",
       "    <tr>\n",
       "      <th>5609</th>\n",
       "      <td>7901-HXJVA</td>\n",
       "      <td>Male</td>\n",
       "      <td>0</td>\n",
       "      <td>No</td>\n",
       "      <td>No</td>\n",
       "      <td>14</td>\n",
       "      <td>Yes</td>\n",
       "      <td>No</td>\n",
       "      <td>No</td>\n",
       "      <td>No</td>\n",
       "      <td>...</td>\n",
       "      <td>No</td>\n",
       "      <td>No</td>\n",
       "      <td>No</td>\n",
       "      <td>No</td>\n",
       "      <td>76.45</td>\n",
       "      <td>1117</td>\n",
       "      <td>False</td>\n",
       "      <td>Manual Payment</td>\n",
       "      <td>Month-to-month</td>\n",
       "      <td>Fiber optic</td>\n",
       "    </tr>\n",
       "    <tr>\n",
       "      <th>2209</th>\n",
       "      <td>3164-AALRN</td>\n",
       "      <td>Male</td>\n",
       "      <td>0</td>\n",
       "      <td>No</td>\n",
       "      <td>No</td>\n",
       "      <td>5</td>\n",
       "      <td>Yes</td>\n",
       "      <td>No</td>\n",
       "      <td>No</td>\n",
       "      <td>No</td>\n",
       "      <td>...</td>\n",
       "      <td>No</td>\n",
       "      <td>Yes</td>\n",
       "      <td>Yes</td>\n",
       "      <td>Yes</td>\n",
       "      <td>70.00</td>\n",
       "      <td>347</td>\n",
       "      <td>True</td>\n",
       "      <td>Manual Payment</td>\n",
       "      <td>one/two-years</td>\n",
       "      <td>DSL</td>\n",
       "    </tr>\n",
       "    <tr>\n",
       "      <th>6919</th>\n",
       "      <td>9821-POOTN</td>\n",
       "      <td>Male</td>\n",
       "      <td>0</td>\n",
       "      <td>Yes</td>\n",
       "      <td>No</td>\n",
       "      <td>35</td>\n",
       "      <td>Yes</td>\n",
       "      <td>Yes</td>\n",
       "      <td>No</td>\n",
       "      <td>No</td>\n",
       "      <td>...</td>\n",
       "      <td>No</td>\n",
       "      <td>No</td>\n",
       "      <td>No</td>\n",
       "      <td>Yes</td>\n",
       "      <td>75.20</td>\n",
       "      <td>2576</td>\n",
       "      <td>True</td>\n",
       "      <td>Manual Payment</td>\n",
       "      <td>Month-to-month</td>\n",
       "      <td>Fiber optic</td>\n",
       "    </tr>\n",
       "    <tr>\n",
       "      <th>2284</th>\n",
       "      <td>3259-QMXUN</td>\n",
       "      <td>Male</td>\n",
       "      <td>0</td>\n",
       "      <td>Yes</td>\n",
       "      <td>No</td>\n",
       "      <td>58</td>\n",
       "      <td>Yes</td>\n",
       "      <td>Yes</td>\n",
       "      <td>Yes</td>\n",
       "      <td>Yes</td>\n",
       "      <td>...</td>\n",
       "      <td>No</td>\n",
       "      <td>Yes</td>\n",
       "      <td>Yes</td>\n",
       "      <td>Yes</td>\n",
       "      <td>86.10</td>\n",
       "      <td>4890</td>\n",
       "      <td>False</td>\n",
       "      <td>Manual Payment</td>\n",
       "      <td>one/two-years</td>\n",
       "      <td>DSL</td>\n",
       "    </tr>\n",
       "    <tr>\n",
       "      <th>845</th>\n",
       "      <td>1226-UDFZR</td>\n",
       "      <td>Female</td>\n",
       "      <td>0</td>\n",
       "      <td>No</td>\n",
       "      <td>No</td>\n",
       "      <td>2</td>\n",
       "      <td>Yes</td>\n",
       "      <td>No</td>\n",
       "      <td>No</td>\n",
       "      <td>Yes</td>\n",
       "      <td>...</td>\n",
       "      <td>No</td>\n",
       "      <td>No</td>\n",
       "      <td>No</td>\n",
       "      <td>Yes</td>\n",
       "      <td>49.60</td>\n",
       "      <td>114</td>\n",
       "      <td>True</td>\n",
       "      <td>Manual Payment</td>\n",
       "      <td>Month-to-month</td>\n",
       "      <td>DSL</td>\n",
       "    </tr>\n",
       "  </tbody>\n",
       "</table>\n",
       "<p>5 rows × 21 columns</p>\n",
       "</div>"
      ],
      "text/plain": [
       "     customer_id  gender  senior_citizen partner dependents  tenure  \\\n",
       "5609  7901-HXJVA    Male               0      No         No      14   \n",
       "2209  3164-AALRN    Male               0      No         No       5   \n",
       "6919  9821-POOTN    Male               0     Yes         No      35   \n",
       "2284  3259-QMXUN    Male               0     Yes         No      58   \n",
       "845   1226-UDFZR  Female               0      No         No       2   \n",
       "\n",
       "     phone_service multiple_lines online_security online_backup  ...  \\\n",
       "5609           Yes             No              No            No  ...   \n",
       "2209           Yes             No              No            No  ...   \n",
       "6919           Yes            Yes              No            No  ...   \n",
       "2284           Yes            Yes             Yes           Yes  ...   \n",
       "845            Yes             No              No           Yes  ...   \n",
       "\n",
       "     tech_support streaming_tv streaming_movies paperless_billing  \\\n",
       "5609           No           No               No                No   \n",
       "2209           No          Yes              Yes               Yes   \n",
       "6919           No           No               No               Yes   \n",
       "2284           No          Yes              Yes               Yes   \n",
       "845            No           No               No               Yes   \n",
       "\n",
       "     monthly_charges  total_charges  churn    payment_type   contract_type  \\\n",
       "5609           76.45           1117  False  Manual Payment  Month-to-month   \n",
       "2209           70.00            347   True  Manual Payment   one/two-years   \n",
       "6919           75.20           2576   True  Manual Payment  Month-to-month   \n",
       "2284           86.10           4890  False  Manual Payment   one/two-years   \n",
       "845            49.60            114   True  Manual Payment  Month-to-month   \n",
       "\n",
       "     internet_service_type  \n",
       "5609           Fiber optic  \n",
       "2209                   DSL  \n",
       "6919           Fiber optic  \n",
       "2284                   DSL  \n",
       "845                    DSL  \n",
       "\n",
       "[5 rows x 21 columns]"
      ]
     },
     "execution_count": 33,
     "metadata": {},
     "output_type": "execute_result"
    }
   ],
   "source": [
    "#using .head() to take a quick look at the train data.\n",
    "train.head()"
   ]
  },
  {
   "cell_type": "markdown",
   "id": "266be6ad-78bd-463d-a7b6-d231ca8f7006",
   "metadata": {},
   "source": [
    "### A concise summary of the data"
   ]
  },
  {
   "cell_type": "code",
   "execution_count": 34,
   "id": "2d1f5ba0-cd02-4620-8a4a-c8a4a540dca0",
   "metadata": {},
   "outputs": [
    {
     "name": "stdout",
     "output_type": "stream",
     "text": [
      "<class 'pandas.core.frame.DataFrame'>\n",
      "Index: 4930 entries, 5609 to 5679\n",
      "Data columns (total 21 columns):\n",
      " #   Column                 Non-Null Count  Dtype  \n",
      "---  ------                 --------------  -----  \n",
      " 0   customer_id            4930 non-null   object \n",
      " 1   gender                 4930 non-null   object \n",
      " 2   senior_citizen         4930 non-null   int64  \n",
      " 3   partner                4930 non-null   object \n",
      " 4   dependents             4930 non-null   object \n",
      " 5   tenure                 4930 non-null   int64  \n",
      " 6   phone_service          4930 non-null   object \n",
      " 7   multiple_lines         4930 non-null   object \n",
      " 8   online_security        4930 non-null   object \n",
      " 9   online_backup          4930 non-null   object \n",
      " 10  device_protection      4930 non-null   object \n",
      " 11  tech_support           4930 non-null   object \n",
      " 12  streaming_tv           4930 non-null   object \n",
      " 13  streaming_movies       4930 non-null   object \n",
      " 14  paperless_billing      4930 non-null   object \n",
      " 15  monthly_charges        4930 non-null   float64\n",
      " 16  total_charges          4930 non-null   int64  \n",
      " 17  churn                  4930 non-null   bool   \n",
      " 18  payment_type           4930 non-null   object \n",
      " 19  contract_type          4930 non-null   object \n",
      " 20  internet_service_type  4930 non-null   object \n",
      "dtypes: bool(1), float64(1), int64(3), object(16)\n",
      "memory usage: 813.6+ KB\n"
     ]
    }
   ],
   "source": [
    "#using.info() to check all the data types and null values\n",
    "\n",
    "train.info()"
   ]
  },
  {
   "cell_type": "markdown",
   "id": "761553d5-669b-4739-a0d8-d6b48e612da8",
   "metadata": {},
   "source": [
    "## Explore"
   ]
  },
  {
   "cell_type": "markdown",
   "id": "8492acea-9398-49be-afb4-86b87dd72024",
   "metadata": {},
   "source": [
    "## Chi^2 test"
   ]
  },
  {
   "cell_type": "markdown",
   "id": "ed964b9f-2963-47cb-88f8-ecc90151c6ef",
   "metadata": {},
   "source": [
    "#### Does having tech support affects churn?"
   ]
  },
  {
   "cell_type": "markdown",
   "id": "b2fcdae2-4d8a-4641-b9f2-377a7ed29d16",
   "metadata": {},
   "source": [
    "Null hypothesis: Having tech support DOES NOT affect churn.\n",
    "\n",
    "Alternative hypothesis: Having tech support AFFECTS churn."
   ]
  },
  {
   "cell_type": "markdown",
   "id": "3afceb13-9382-4960-92eb-06d6435353d0",
   "metadata": {},
   "source": [
    "I will now use a chi-square test to investigate whether having tech support affects churn\n",
    "\n",
    "I will use a confidence interval of 95%  \n",
    "The resulting alpha is .05"
   ]
  },
  {
   "cell_type": "code",
   "execution_count": 35,
   "id": "cc77daf4-c5d4-46c7-9b3a-dabea86079e6",
   "metadata": {},
   "outputs": [
    {
     "data": {
      "text/plain": [
       "('we reject the null hypothesis. There appears to be a relationship',\n",
       " 4.700462998703674e-128)"
      ]
     },
     "execution_count": 35,
     "metadata": {},
     "output_type": "execute_result"
    }
   ],
   "source": [
    "#using the perform_chi_squared_test function to find the value of p\n",
    "\n",
    "perform_chi_squared_test(train, 'churn', 'tech_support', alpha = 0.05)"
   ]
  },
  {
   "cell_type": "markdown",
   "id": "ef342644-3a23-4f01-bcdd-29c2e33e9aac",
   "metadata": {},
   "source": [
    "#### Takeaway"
   ]
  },
  {
   "cell_type": "markdown",
   "id": "3f0dbaaf-2979-4cae-a286-f9c689fe8de2",
   "metadata": {},
   "source": [
    "- The chi^2 test produced a p-value of (4.700462998703674e-128) which is significantly lower than our cutoff alpha value of 0.05 indicating that there is a strong correlation between having tech support and churn."
   ]
  },
  {
   "cell_type": "markdown",
   "id": "674d25d8-0ab4-4a82-b503-e29bfb4df7ae",
   "metadata": {},
   "source": [
    "#### Creating a countplot to visualize the relationship between tech support and churn"
   ]
  },
  {
   "cell_type": "code",
   "execution_count": 51,
   "id": "e6d75ccd-325a-4652-9569-1d62d1ff3f37",
   "metadata": {},
   "outputs": [
    {
     "data": {
      "image/png": "[encoded data removed]",
      "text/plain": [
       "<Figure size 800x600 with 1 Axes>"
      ]
     },
     "metadata": {},
     "output_type": "display_data"
    }
   ],
   "source": [
    "# Create a countplot using Seaborn to visualize the distribution of 'tech_support' by 'churn'\n",
    "# This function generates a countplot to show the distribution of 'tech_support' by 'churn' in the 'train' dataset.\n",
    "create_tech_support_churn_plot(train)"
   ]
  },
  {
   "cell_type": "markdown",
   "id": "50b59975-e688-4d6e-a01c-c5fa5218a4e4",
   "metadata": {},
   "source": [
    "#### takeaway from countplot"
   ]
  },
  {
   "cell_type": "markdown",
   "id": "e3d1d29c-50dc-4b45-836e-df64e8dbcb78",
   "metadata": {},
   "source": [
    "- We can observe that the presence of tech support does impact churn, as nearly half of customers without tech support have churned, in contrast to the fewer than 15% of customers with tech support who have churned."
   ]
  },
  {
   "cell_type": "markdown",
   "id": "d1f24ccb-4ae7-4411-b41c-3d5fbc12556f",
   "metadata": {},
   "source": [
    "## Independent t-test"
   ]
  },
  {
   "cell_type": "markdown",
   "id": "13702934-124d-4c15-a819-810209321713",
   "metadata": {},
   "source": [
    "#### Does tenure have a direct relationship with churn?\n"
   ]
  },
  {
   "cell_type": "markdown",
   "id": "4d60880c-12db-4a6d-a793-aa74f6d61c18",
   "metadata": {},
   "source": [
    "Null hypothesis: Tenure DOES NOT have a direct relationship with churn.\n",
    "\n",
    "Alternative hypothesis: Tenure has a direct relationship with churn."
   ]
  },
  {
   "cell_type": "code",
   "execution_count": 37,
   "id": "51b6bb1d-938b-40ff-928e-240d2c075fec",
   "metadata": {},
   "outputs": [
    {
     "data": {
      "text/plain": [
       "('Reject the null hypothesis: tenure has a significant effect on churn.',\n",
       " 1.6523707947511127e-170)"
      ]
     },
     "execution_count": 37,
     "metadata": {},
     "output_type": "execute_result"
    }
   ],
   "source": [
    "# Perform a t-test on the 'tenure' column of the training data\n",
    "perform_t_test(train, 'tenure')"
   ]
  },
  {
   "cell_type": "markdown",
   "id": "da3c52ed-d51c-4c59-ae56-8c150e8ff085",
   "metadata": {},
   "source": [
    "#### Takeaway"
   ]
  },
  {
   "cell_type": "markdown",
   "id": "5ef6e597-0519-486c-b801-63d7ef97a2d3",
   "metadata": {},
   "source": [
    "The independent t-test produced a p value of (1.6523707947511127e-170) which is significantly lower than our cutoff of 0.05 indicating that there is a direct relationship between tenure and the churn."
   ]
  },
  {
   "cell_type": "markdown",
   "id": "6d9b68fb-90a7-4fff-9c54-e3531604fbb2",
   "metadata": {},
   "source": [
    "#### Creating a boxplot to visualize the relationship between tenure and churn"
   ]
  },
  {
   "cell_type": "code",
   "execution_count": 52,
   "id": "91c9d850-5893-430c-b715-3f277b296220",
   "metadata": {},
   "outputs": [
    {
     "data": {
      "image/png": "[encoded data removed]",
      "text/plain": [
       "<Figure size 800x500 with 1 Axes>"
      ]
     },
     "metadata": {},
     "output_type": "display_data"
    }
   ],
   "source": [
    "# Create a boxplot using Seaborn to visualize the distribution of 'tenure' by 'churn'\n",
    "# This function generates a boxplot to illustrate the distribution of 'tenure' by 'churn' in the 'train' dataset.\n",
    "create_tenure_churn_boxplot(train)"
   ]
  },
  {
   "cell_type": "markdown",
   "id": "7df5990f-5c4d-4928-bb43-d3d933a61211",
   "metadata": {},
   "source": [
    "#### takeaway from boxplot"
   ]
  },
  {
   "cell_type": "markdown",
   "id": "009e772d-54e8-4328-9f6e-ffe0c69d1043",
   "metadata": {},
   "source": [
    "The above bar plot shows the average tenure for both churn groups and we can discern that the longer the customer is with the company the less likely it is for them to churn."
   ]
  },
  {
   "cell_type": "markdown",
   "id": "4b1c4cf3-715c-4a2f-98bf-f62341dbc7d1",
   "metadata": {},
   "source": [
    "## Chi^2 test"
   ]
  },
  {
   "cell_type": "markdown",
   "id": "1cdfb7cb-f926-4e41-8699-73cd951e89d1",
   "metadata": {},
   "source": [
    "#### Does the contract type affect churn?"
   ]
  },
  {
   "cell_type": "markdown",
   "id": "bca95cdd-eec8-4188-bb8a-44ba1ae3bce4",
   "metadata": {},
   "source": [
    "Null hypothesis : Contract type has NO relation to churn.\n",
    "\n",
    "Alternative hypothesis : Contract type HAS a relation to churn."
   ]
  },
  {
   "cell_type": "code",
   "execution_count": 39,
   "id": "81a8fa87-ccfc-4474-b456-df1df9230a45",
   "metadata": {},
   "outputs": [
    {
     "data": {
      "text/plain": [
       "('we reject the null hypothesis. There appears to be a relationship',\n",
       " 1.8766652889790652e-184)"
      ]
     },
     "execution_count": 39,
     "metadata": {},
     "output_type": "execute_result"
    }
   ],
   "source": [
    "# Perform a chi-squared test of independence on 'churn' and 'contract_type' columns in the training data\n",
    "perform_chi_squared_test(train, 'churn', 'contract_type')"
   ]
  },
  {
   "cell_type": "markdown",
   "id": "d0ce1e7b-106d-47dc-bdab-811784401d77",
   "metadata": {},
   "source": [
    "### Takeaway"
   ]
  },
  {
   "cell_type": "markdown",
   "id": "7b439b04-b1f9-4e5a-80eb-43910e6e40d5",
   "metadata": {},
   "source": [
    "- - The chi^2 test produced a p value of ( 1.8766652889790652e-184) which is significantly lower than our cutoff of 0.05 indicating that there is a strong correlation between contract type and churn."
   ]
  },
  {
   "cell_type": "markdown",
   "id": "ad4cc7e1-2e09-4bcb-865c-6d0c203ece0a",
   "metadata": {},
   "source": [
    "#### Creating a countplot to visualize the relationship between contract type and churn"
   ]
  },
  {
   "cell_type": "code",
   "execution_count": 53,
   "id": "7a9c1052-ea4b-4ea0-a44b-c72edf7c90e1",
   "metadata": {},
   "outputs": [
    {
     "data": {
      "image/png": "[encoded data removed]",
      "text/plain": [
       "<Figure size 800x600 with 1 Axes>"
      ]
     },
     "metadata": {},
     "output_type": "display_data"
    }
   ],
   "source": [
    "# Create a countplot using Seaborn to visualize the distribution of 'contract_type' by 'churn'\n",
    "# Comment: This function generates a countplot to depict the distribution of 'contract_type' by 'churn' in the 'train' dataset.\n",
    "create_contract_type_churn_plot(train)"
   ]
  },
  {
   "cell_type": "markdown",
   "id": "0f722fa5-b392-4651-be22-d7c1c44f6863",
   "metadata": {},
   "source": [
    "#### Takeaway from boxplot"
   ]
  },
  {
   "cell_type": "markdown",
   "id": "9cfe5789-1a81-4d83-b028-461a3a15f60f",
   "metadata": {},
   "source": [
    "- We can observe that the presence of tech support does impact churn, as nearly half of customers without tech support have churned, in contrast to the fewer than 15% of customers with tech support who have churned."
   ]
  },
  {
   "cell_type": "markdown",
   "id": "d05786b9-e6b5-4b71-938b-8714575fcf94",
   "metadata": {},
   "source": [
    "- We can discern from the box plot that having a month to month contract significantly increases the probability of the customer churning."
   ]
  },
  {
   "cell_type": "markdown",
   "id": "c9547830-f123-43b0-b8ea-f6dfdec7fcaa",
   "metadata": {},
   "source": [
    "### Countplot"
   ]
  },
  {
   "cell_type": "markdown",
   "id": "c9a5db2f-7702-4695-8305-cdf9fd67d313",
   "metadata": {},
   "source": [
    "#### Does internet service type have a strong relationship with churn?"
   ]
  },
  {
   "cell_type": "code",
   "execution_count": 54,
   "id": "1347dde6-3669-422c-b0ea-1e22a9fc5f90",
   "metadata": {},
   "outputs": [
    {
     "data": {
      "image/png": "[encoded data removed]",
      "text/plain": [
       "<Figure size 1000x600 with 1 Axes>"
      ]
     },
     "metadata": {},
     "output_type": "display_data"
    }
   ],
   "source": [
    "# Create a stacked bar chart to visualize the relationship between 'Internet Service Type' and 'Churn'\n",
    "# This function generates a stacked bar chart to display the relationship between 'Internet Service Type' and 'Churn' in the 'train' dataset.\n",
    "create_internet_service_churn_plot(train)"
   ]
  },
  {
   "cell_type": "markdown",
   "id": "b36ef383-0ff1-42db-8c28-8b1cd52cb7b8",
   "metadata": {},
   "source": [
    "#### Takeaway from stacked bar chart"
   ]
  },
  {
   "cell_type": "markdown",
   "id": "549024dd-c2e5-49cc-b45d-02e6d1797606",
   "metadata": {},
   "source": [
    "- From the stacked bar chart above we can observe that customers that have fiber optics as their internet service type tend to churn more than customers that have DSL or none."
   ]
  },
  {
   "cell_type": "markdown",
   "id": "6dbf1b92-10c4-455b-8bfd-e12ad4848716",
   "metadata": {},
   "source": [
    "### Counplot and stacked bar chart"
   ]
  },
  {
   "cell_type": "markdown",
   "id": "8a264563-b857-4d0d-9ce3-911d2ce0fbb1",
   "metadata": {},
   "source": [
    " #### Is there a correlation between being a senior citizen and the likelihood of churning?  "
   ]
  },
  {
   "cell_type": "markdown",
   "id": "f8b11e35-fa02-4fb7-bd19-0db7f0e7ae42",
   "metadata": {},
   "source": [
    "The two visualizations below presented side by side examines the impact of senior citizens on customer churn. The first plot, a countplot, illustrates the distribution of churn for both senior citizens and non-senior citizens. The second visualization, a pie chart, provides a visual breakdown of churn percentages specifically among senior citizens. These visualizations help us understand the relationship between senior citizenship and customer churn.\""
   ]
  },
  {
   "cell_type": "code",
   "execution_count": 42,
   "id": "59498f66-bc0a-491c-ace4-799c70a7adad",
   "metadata": {},
   "outputs": [
    {
     "data": {
      "image/png": "[encoded data removed]",
      "text/plain": [
       "<Figure size 1400x600 with 2 Axes>"
      ]
     },
     "metadata": {},
     "output_type": "display_data"
    }
   ],
   "source": [
    "# Create subplots with two plots side by side\n",
    "# Plot 1: Countplot for Senior Citizens\n",
    "# Plot 2: Pie Chart for Senior Citizens\n",
    "create_churn_plots(train)"
   ]
  },
  {
   "cell_type": "markdown",
   "id": "773b1a48-2aba-4f7f-a425-4bd216f61eb4",
   "metadata": {},
   "source": [
    "#### Takeaway from both plots"
   ]
  },
  {
   "cell_type": "markdown",
   "id": "0957c969-465f-42b6-9395-5106853418ea",
   "metadata": {},
   "source": [
    "- From both visualizations, it becomes evident that while senior citizens constitute a relatively small portion of the customer churn, their churn rate is notably higher compared to non-senior citizen customers."
   ]
  },
  {
   "cell_type": "markdown",
   "id": "d76bcd83-dd18-4594-921d-a9b140c94d2d",
   "metadata": {},
   "source": [
    "## Exploration Summary"
   ]
  },
  {
   "cell_type": "markdown",
   "id": "1a7e8a5d-b123-49f8-bbbc-1d0db17f3c22",
   "metadata": {},
   "source": [
    "**Tech Support and Churn:**\n",
    "- The presence of tech support significantly affects churn, as evidenced by a chi-squared test with a p-value much lower than 0.05. Customers without tech support have a nearly 50% churn rate, while those with tech support have a churn rate of less than 15%.\n",
    "\n",
    "**Tenure and Churn:**\n",
    "- Tenure has a clear and direct relationship with churn, as demonstrated by an independent t-test with a p-value far below 0.05. The bar plot displaying average tenure for both churn groups reveals that longer-tenured customers are substantially less likely to churn.\n",
    "\n",
    "**Contract Type and Churn:**\n",
    "- The chi-squared test, with a p-value of (1.8766652889790652e-184), significantly below our 0.05 cutoff, confirms a strong correlation between contract type and churn. Observations reveal that the presence of tech support affects churn, with nearly half of customers lacking support churning compared to less than 15% with support. Furthermore, a box plot shows that month-to-month contracts significantly increase churn likelihood. This indicates that contract type significantly influences churn, particularly with month-to-month contracts.\n",
    "\n",
    "**Internet Service Type and Churn:**\n",
    "- A stacked bar chart visually depicts the relationship between Internet service type and churn. Notably, customers with fiber optic Internet service exhibit a higher churn rate compared to those with DSL or no Internet service. This visual reinforces the significant influence of Internet service type on churn.\n",
    "\n",
    "**Senior Citizenship and Churn:**\n",
    "- In the evaluation of senior citizenship's impact on customer churn, two visualizations are juxtaposed. The initial countplot illustrates churn distribution for senior citizens and non-senior citizens. The subsequent pie chart provides a visual breakdown of churn percentages among senior citizens.\n",
    "- Furthermore, it's apparent from both visualizations that senior citizens, although a minority of customer churn, exhibit a considerably higher churn rate in comparison to non-senior citizen customers."
   ]
  },
  {
   "cell_type": "markdown",
   "id": "af809f80-8d79-420c-8501-ee458fc4823f",
   "metadata": {},
   "source": [
    "# Modeling"
   ]
  },
  {
   "cell_type": "markdown",
   "id": "8dbf4df0-98fc-40ec-bf24-12206d58c154",
   "metadata": {},
   "source": [
    "#### Features for modeling\n",
    "1. tenure\n",
    "2. monthly_charges\n",
    "3. total_charges\n",
    "4. gender_Male\n",
    "5. partner\n",
    "6. dependents\n",
    "7. phone_service\n",
    "8. multiple_lines\n",
    "9. online_security\n",
    "10. online_backup\n",
    "11. device_protection\n",
    "12. tech_support\n",
    "13. streaming_tv\n",
    "14. streaming_movies\n",
    "15. payment_type\n",
    "16. contract_type\n",
    "17. internet_service_type\n",
    "18. paperless_billing\n",
    "19. senior_citizen"
   ]
  },
  {
   "cell_type": "markdown",
   "id": "dd60df08-32d1-4e62-8c01-6a6d8b45229b",
   "metadata": {},
   "source": [
    "Goal:\n",
    "\n",
    "- Establish a baseline to judge model efficiency against\n",
    "\n",
    "- Create multiple models\n",
    "\n",
    "- Determine the best 3 models to run on my validate dataset\n",
    "\n",
    "- Assess models created using four distinct model types and a range of hyperparameter settings.\n",
    "\n",
    "- Models will undergo evaluation on both the training and validation datasets. The top-performing model will subsequently be assessed using the test dataset."
   ]
  },
  {
   "cell_type": "code",
   "execution_count": 43,
   "id": "4b78be96-40a8-4c04-beba-c252f3813816",
   "metadata": {},
   "outputs": [],
   "source": [
    "# Encoding categorical columns in the subsets (train, val, test)\n",
    "train, val, test = encode_columns(train, val, test)\n",
    "\n",
    "# Splitting the subsets into feature matrices (X) and target vectors (y)\n",
    "X_train, y_train, X_val, y_val, X_test, y_test = x_y_split(train, val, test)"
   ]
  },
  {
   "cell_type": "code",
   "execution_count": 44,
   "id": "37ae4217-b242-4ee2-98ff-266349b97a10",
   "metadata": {},
   "outputs": [],
   "source": [
    "# Calculate the baseline accuracy by finding the proportion of 'y_train' equal to 0\n",
    "baseline_accuracy = (y_train == 0).mean()"
   ]
  },
  {
   "cell_type": "markdown",
   "id": "2896f3f8-d13d-48e0-9383-cf509243b54f",
   "metadata": {},
   "source": [
    "#### By predicting that no customers will churn, I am accurate 73% of the time. This is the baseline metric that I need to beat for a model to hold any value."
   ]
  },
  {
   "cell_type": "markdown",
   "id": "95d37f23-bb23-4b2d-8dfd-69b147ff4938",
   "metadata": {},
   "source": [
    "### Model 1 (Decision Tree)"
   ]
  },
  {
   "cell_type": "code",
   "execution_count": 45,
   "id": "79b13142-a09f-4250-9831-156f0db4a47b",
   "metadata": {},
   "outputs": [
    {
     "name": "stdout",
     "output_type": "stream",
     "text": [
      "Accuracy of Decision Tree on train data is 0.784\n",
      "Accuracy of Decision Tree on validate data is 0.7955\n"
     ]
    },
    {
     "data": {
      "text/html": [
       "<div>\n",
       "<style scoped>\n",
       "    .dataframe tbody tr th:only-of-type {\n",
       "        vertical-align: middle;\n",
       "    }\n",
       "\n",
       "    .dataframe tbody tr th {\n",
       "        vertical-align: top;\n",
       "    }\n",
       "\n",
       "    .dataframe thead th {\n",
       "        text-align: right;\n",
       "    }\n",
       "</style>\n",
       "<table border=\"1\" class=\"dataframe\">\n",
       "  <thead>\n",
       "    <tr style=\"text-align: right;\">\n",
       "      <th></th>\n",
       "      <th>Feature</th>\n",
       "      <th>Importance</th>\n",
       "    </tr>\n",
       "  </thead>\n",
       "  <tbody>\n",
       "    <tr>\n",
       "      <th>0</th>\n",
       "      <td>tenure</td>\n",
       "      <td>0.619213</td>\n",
       "    </tr>\n",
       "    <tr>\n",
       "      <th>1</th>\n",
       "      <td>monthly_charges</td>\n",
       "      <td>0.337616</td>\n",
       "    </tr>\n",
       "    <tr>\n",
       "      <th>2</th>\n",
       "      <td>total_charges</td>\n",
       "      <td>0.043171</td>\n",
       "    </tr>\n",
       "  </tbody>\n",
       "</table>\n",
       "</div>"
      ],
      "text/plain": [
       "           Feature  Importance\n",
       "0           tenure    0.619213\n",
       "1  monthly_charges    0.337616\n",
       "2    total_charges    0.043171"
      ]
     },
     "execution_count": 45,
     "metadata": {},
     "output_type": "execute_result"
    }
   ],
   "source": [
    "# Train a decision tree classifier using the training data (X_train, y_train) and validate it on the validation data (X_val, y_val)\n",
    "train_decision_tree(X_train, y_train, X_val, y_val)"
   ]
  },
  {
   "cell_type": "markdown",
   "id": "d4efd04d-6673-4743-af88-e58de2783946",
   "metadata": {},
   "source": [
    "#### Takeaways\n",
    "\n",
    "- By using all the features in my dataset except customer_id, this decision tree model is beating my baseline accuracy of 73%.\n",
    "- The model is also not overfit because validate is actually performing just slightly better in my model."
   ]
  },
  {
   "cell_type": "markdown",
   "id": "e3169804-6ca6-4583-b2dd-daeaa1e6e867",
   "metadata": {},
   "source": [
    "### Model 2 (Random Forest)"
   ]
  },
  {
   "cell_type": "code",
   "execution_count": 46,
   "id": "92dfdd3f-cd0a-442e-b992-87d45e0ad239",
   "metadata": {},
   "outputs": [
    {
     "name": "stdout",
     "output_type": "stream",
     "text": [
      "Accuracy of Random Forest on train data is 0.8152\n",
      "Accuracy of Random Forest on validate data is 0.7955\n"
     ]
    },
    {
     "data": {
      "text/html": [
       "<div>\n",
       "<style scoped>\n",
       "    .dataframe tbody tr th:only-of-type {\n",
       "        vertical-align: middle;\n",
       "    }\n",
       "\n",
       "    .dataframe tbody tr th {\n",
       "        vertical-align: top;\n",
       "    }\n",
       "\n",
       "    .dataframe thead th {\n",
       "        text-align: right;\n",
       "    }\n",
       "</style>\n",
       "<table border=\"1\" class=\"dataframe\">\n",
       "  <thead>\n",
       "    <tr style=\"text-align: right;\">\n",
       "      <th></th>\n",
       "      <th>Feature</th>\n",
       "      <th>Importance</th>\n",
       "    </tr>\n",
       "  </thead>\n",
       "  <tbody>\n",
       "    <tr>\n",
       "      <th>1</th>\n",
       "      <td>monthly_charges</td>\n",
       "      <td>0.350272</td>\n",
       "    </tr>\n",
       "    <tr>\n",
       "      <th>0</th>\n",
       "      <td>tenure</td>\n",
       "      <td>0.342464</td>\n",
       "    </tr>\n",
       "    <tr>\n",
       "      <th>2</th>\n",
       "      <td>total_charges</td>\n",
       "      <td>0.307263</td>\n",
       "    </tr>\n",
       "  </tbody>\n",
       "</table>\n",
       "</div>"
      ],
      "text/plain": [
       "           Feature  Importance\n",
       "1  monthly_charges    0.350272\n",
       "0           tenure    0.342464\n",
       "2    total_charges    0.307263"
      ]
     },
     "execution_count": 46,
     "metadata": {},
     "output_type": "execute_result"
    }
   ],
   "source": [
    "# Train a random forest classifier using the training data (X_train, y_train) and validate it on the validation data (X_val, y_val)\n",
    "train_random_forest(X_train, y_train, X_val, y_val)"
   ]
  },
  {
   "cell_type": "markdown",
   "id": "91b05a8d-99a8-4fce-8370-76f6f158a574",
   "metadata": {},
   "source": [
    "#### Takeaways\n",
    "\n",
    "- The random forest model performed slightly better than the decision tree model.\n",
    "- The model is slightly overfit since train does 2% better than the validate subset."
   ]
  },
  {
   "cell_type": "markdown",
   "id": "7c0374a2-7d39-42ef-a002-b94da5a60ade",
   "metadata": {},
   "source": [
    "### Model 3 (KNN)"
   ]
  },
  {
   "cell_type": "code",
   "execution_count": 47,
   "id": "c33c8b6b-33a4-47e4-b230-b3abde22eaaf",
   "metadata": {
    "scrolled": true
   },
   "outputs": [
    {
     "name": "stdout",
     "output_type": "stream",
     "text": [
      "Accuracy of KNN on train data is 0.8039\n",
      "Accuracy of KNN on validate data is 0.8021\n"
     ]
    }
   ],
   "source": [
    "# Train a k-nearest neighbors (KNN) classifier using the training data (train) and validate it on the validation data (val)\n",
    "train_knn(train, val)"
   ]
  },
  {
   "cell_type": "markdown",
   "id": "0a964fea-3cee-4375-a6c6-45f389675bff",
   "metadata": {},
   "source": [
    "#### Takeaways\n",
    "\n",
    "- The model performs about equal to the rf model.\n",
    "- The model doesn't exhibit overfitting, as the margin of difference between the validation and training performance is minimal."
   ]
  },
  {
   "cell_type": "markdown",
   "id": "98747892-67e2-4b15-89e5-6ef0bdeff234",
   "metadata": {},
   "source": [
    "### Model 4 (Logistic Regression)"
   ]
  },
  {
   "cell_type": "code",
   "execution_count": 48,
   "id": "45daf6d7-930f-420e-90ed-cc210bbe0e76",
   "metadata": {},
   "outputs": [
    {
     "name": "stdout",
     "output_type": "stream",
     "text": [
      "Accuracy of Logistic Regression on train data is 0.7862\n",
      "Accuracy of Logistic Regression on validate data is 0.7983\n"
     ]
    }
   ],
   "source": [
    "# Train a logistic regression classifier using the training data (X_train, y_train) and validate it on the validation data (X_val, y_val)\n",
    "train_logistic_regression(X_train, y_train, X_val, y_val)"
   ]
  },
  {
   "cell_type": "markdown",
   "id": "4d9c19d8-66bd-4d52-8418-d518277b22aa",
   "metadata": {},
   "source": [
    "#### Takeaways\n",
    "\n",
    "- The model performs about equal to the rf model.\n",
    "- The model is also not overfit because validate outperforms test."
   ]
  },
  {
   "cell_type": "markdown",
   "id": "72d7160e-7eac-40e4-a3f1-308ca537d8f1",
   "metadata": {},
   "source": [
    "## Model Comparison\n",
    "\n",
    "- The four models exhibited similar performance, with the random forest model showing a slight degree of overfitting.\n",
    "- While the random forest model performed best on the validation data, the KNN model emerged as the top-performing model overall, considering its balanced performance and lack of overfitting.\n",
    "- I've decided to proceed with the KNN model for further testing.\n"
   ]
  },
  {
   "cell_type": "code",
   "execution_count": 49,
   "id": "3cf26009-684f-4aae-856c-4994439cdd10",
   "metadata": {
    "scrolled": true
   },
   "outputs": [
    {
     "name": "stdout",
     "output_type": "stream",
     "text": [
      "Accuracy of KNN on test data is 0.7862\n"
     ]
    }
   ],
   "source": [
    "# Test the k-nearest neighbors (KNN) classifier using the training data (train) on the test data (test)\n",
    "test_knn(train, test)"
   ]
  },
  {
   "cell_type": "markdown",
   "id": "d70d42cf-89cc-408c-9128-0642455a8c18",
   "metadata": {},
   "source": [
    "### Create CSV file"
   ]
  },
  {
   "cell_type": "code",
   "execution_count": 50,
   "id": "26436579-f347-40f0-ac1e-e0f398182188",
   "metadata": {},
   "outputs": [
    {
     "data": {
      "text/html": [
       "<div>\n",
       "<style scoped>\n",
       "    .dataframe tbody tr th:only-of-type {\n",
       "        vertical-align: middle;\n",
       "    }\n",
       "\n",
       "    .dataframe tbody tr th {\n",
       "        vertical-align: top;\n",
       "    }\n",
       "\n",
       "    .dataframe thead th {\n",
       "        text-align: right;\n",
       "    }\n",
       "</style>\n",
       "<table border=\"1\" class=\"dataframe\">\n",
       "  <thead>\n",
       "    <tr style=\"text-align: right;\">\n",
       "      <th></th>\n",
       "      <th>customer_id</th>\n",
       "      <th>probability_of_churn</th>\n",
       "      <th>prediction_of_churn</th>\n",
       "    </tr>\n",
       "  </thead>\n",
       "  <tbody>\n",
       "    <tr>\n",
       "      <th>0</th>\n",
       "      <td>2369-UAPKZ</td>\n",
       "      <td>0.866667</td>\n",
       "      <td>1</td>\n",
       "    </tr>\n",
       "    <tr>\n",
       "      <th>1</th>\n",
       "      <td>5380-XPJNZ</td>\n",
       "      <td>0.000000</td>\n",
       "      <td>0</td>\n",
       "    </tr>\n",
       "    <tr>\n",
       "      <th>2</th>\n",
       "      <td>1215-VFYVK</td>\n",
       "      <td>0.566667</td>\n",
       "      <td>1</td>\n",
       "    </tr>\n",
       "    <tr>\n",
       "      <th>3</th>\n",
       "      <td>4223-BKEOR</td>\n",
       "      <td>0.100000</td>\n",
       "      <td>0</td>\n",
       "    </tr>\n",
       "    <tr>\n",
       "      <th>4</th>\n",
       "      <td>7665-NKLAV</td>\n",
       "      <td>0.033333</td>\n",
       "      <td>0</td>\n",
       "    </tr>\n",
       "  </tbody>\n",
       "</table>\n",
       "</div>"
      ],
      "text/plain": [
       "  customer_id  probability_of_churn  prediction_of_churn\n",
       "0  2369-UAPKZ              0.866667                    1\n",
       "1  5380-XPJNZ              0.000000                    0\n",
       "2  1215-VFYVK              0.566667                    1\n",
       "3  4223-BKEOR              0.100000                    0\n",
       "4  7665-NKLAV              0.033333                    0"
      ]
     },
     "execution_count": 50,
     "metadata": {},
     "output_type": "execute_result"
    }
   ],
   "source": [
    "# Generate KNN-based churn predictions using the trained model on the test data.\n",
    "# with KNN parameters (n_neighbors=30) and save predictions to 'knn_churn_predictions.csv'.\n",
    "generate_knn_predictions(train, test, n_neighbors=30, output_csv_filename='knn_churn_predictions.csv')\n",
    "\n",
    "# Load the saved predictions CSV file into a DataFrame and print the first five.\n",
    "pd.read_csv('knn_churn_predictions.csv').head()"
   ]
  },
  {
   "cell_type": "markdown",
   "id": "a290ca95-0a53-4f5f-8016-d119729fd599",
   "metadata": {},
   "source": [
    "## Modeling Summary\n",
    "\n",
    "- The four models demonstrated comparable performance, although the random forest model exhibited a minor instance of overfitting.\n",
    "- Although the KNN model performed about equal on test and validate, it performed slightly worse on test.\n",
    "- The best performing model (KNN) had an accuracy of 79% which is 6% higher than the baseline accuracy."
   ]
  },
  {
   "cell_type": "markdown",
   "id": "40ec7642-0836-42f7-9ed0-9b4c83715ab0",
   "metadata": {},
   "source": [
    "# Conclusions"
   ]
  },
  {
   "cell_type": "markdown",
   "id": "9b6c95cd-61ae-4a25-9e02-382b8add02de",
   "metadata": {},
   "source": [
    "### Key findings\n",
    "\n",
    "Upon conducting a thorough analysis of the provided data and building predictive models, several critical insights and findings have emerged:\n",
    "\n",
    "Feature Importance: Our analysis revealed that specific features have a substantial impact on churn prediction. Notably, contract type, tenure, monthly charges, internet service type, and total charges were identified as key determinants of churn."
   ]
  },
  {
   "cell_type": "markdown",
   "id": "4616a6b7-e334-4285-81f2-3a89eda44735",
   "metadata": {},
   "source": [
    "### Exploration\n",
    "\n",
    "- Having tech support greatly reducing the customers probability of churning.\n",
    "- The longer the customer has been with the company the less likely they are to churn.\n",
    "- New customers tend to have a high churn rate.\n",
    "- Customers with a monthly plan have a higher churn rate than customers with a yearly plan.\n",
    "- Customers with DSL tend to have a significantly lower churn rate compared to customers with Fiber optics.\n",
    "- It is apparent that senior citizens, although a minority of customer churn, exhibit a considerably higher churn rate in comparison to non-senior citizen customers."
   ]
  },
  {
   "cell_type": "markdown",
   "id": "3849795f-d26b-4682-bc2c-0e6d64809303",
   "metadata": {},
   "source": [
    "### Modeling\n",
    "\n",
    "- Decision Tree achieved a training accuracy of 78.4% and a validation accuracy of 79.55%. Its top features were tenure (61.92%), monthly charges (33.76%), and total charges (4.32%).\n",
    "- Random Forest performed well with a training accuracy of 81.52% and a validation accuracy of 79.55%. Its key features were monthly charges (35.03%), tenure (34.25%), and total charges (30.73%).\n",
    "- KNN exhibited solid performance with a training accuracy of 80.39% and a validation accuracy of 80.21%.\n",
    "- Logistic Regression achieved an accuracy of 78.62% on training data and 79.83% on validation data.\n",
    "\n",
    "Overall, Random Forest and KNN show promising results on the validation set, but but KNN slightly outperforms the others on the validate set and is also the least overfitted."
   ]
  },
  {
   "cell_type": "markdown",
   "id": "a2a2f752-6579-486f-8372-27df164bdc5d",
   "metadata": {},
   "source": [
    "## Recommendations\n",
    "\n",
    "- Encourage customers to choose longer-term contracts, such as one or two-year contracts, as these seem to have a positive impact on customer retention.\n",
    "- Consider implementing retention strategies or loyalty programs that reward customers for their longevity with the company.\n",
    "- Explore options to optimize pricing strategies to make them more competitive in the market without compromising quality.\n",
    "- Continuously collect feedback from customers who have churned to understand their reasons for leaving. Use this information to make improvements in areas that matter most to customer"
   ]
  },
  {
   "cell_type": "markdown",
   "id": "a57a0a1b-36fc-454b-b13b-53326fc95773",
   "metadata": {},
   "source": [
    "### Next Steps\n",
    "\n",
    "As we move forward, several crucial actions can be taken to refine our churn prediction and mitigation strategies:\n",
    "\n",
    "- In-Depth Feature Analysis: Conduct comprehensive tests and analyses on all available features to pinpoint the most influential drivers of churn accurately. This will help us focus our efforts on addressing the critical factors.\n",
    "- Feature Engineering: Experiment with different feature combinations and transformations to potentially enhance model performance. Iteratively building models with various feature sets can reveal valuable insights.\n",
    "- Data Quality Assurance: Prioritize data preprocessing and cleaning efforts. Scrutinize the data meticulously to minimize the chances of overlooking any errors or inconsistencies that could affect model accuracy."
   ]
  }
 ],
 "metadata": {
  "kernelspec": {
   "display_name": "Python 3 (ipykernel)",
   "language": "python",
   "name": "python3"
  },
  "language_info": {
   "codemirror_mode": {
    "name": "ipython",
    "version": 3
   },
   "file_extension": ".py",
   "mimetype": "text/x-python",
   "name": "python",
   "nbconvert_exporter": "python",
   "pygments_lexer": "ipython3",
   "version": "3.10.12"
  }
 },
 "nbformat": 4,
 "nbformat_minor": 5
}
