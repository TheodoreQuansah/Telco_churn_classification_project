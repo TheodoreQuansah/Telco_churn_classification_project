{
 "cells": [
  {
   "cell_type": "markdown",
   "id": "347f80c3-ed5f-40f0-bd76-15b20b30a839",
   "metadata": {},
   "source": [
    "# Telco Churn Report"
   ]
  },
  {
   "cell_type": "markdown",
   "id": "94de2207-d446-4da3-9396-d3aa5beb2e2c",
   "metadata": {},
   "source": [
    "## Project Goal\n",
    "\n",
    "- Identify Key Churn Drivers: Determine the primary factors influencing customer churn at Telco by conducting a thorough analysis of customer data.\n",
    "- Develop Predictive Models: Build accurate machine learning models that predict customer churn based on historical data.\n",
    "- Provide Actionable Insights: Translate complex data analysis into actionable insights and recommendations for Telco.\n",
    "- Long-Term Churn Prevention: Extend the project's impact beyond immediate insights by creating a roadmap for ongoing churn prevention."
   ]
  },
  {
   "cell_type": "code",
   "execution_count": 30,
   "id": "446fd200-b40b-4c6f-a5c5-8414ad504e05",
   "metadata": {},
   "outputs": [],
   "source": [
    "import os\n",
    "import pandas as pd\n",
    "import seaborn as sns\n",
    "import matplotlib.pyplot as plt\n",
    "import numpy as np\n",
    "import scipy.stats as stats\n",
    "\n",
    "from sklearn.linear_model import LogisticRegression\n",
    "from sklearn.neighbors import KNeighborsClassifier\n",
    "from sklearn.metrics import confusion_matrix, classification_report\n",
    "from sklearn.ensemble import RandomForestClassifier\n",
    "from scipy import stats\n",
    "from env import get_connection\n",
    "from sklearn.preprocessing import LabelEncoder, StandardScaler, MinMaxScaler\n",
    "from sklearn.model_selection import train_test_split\n",
    "from prepare import encode_categorical_columns, train_val_test, theometrics\n",
    "from wrangle import get_telco_data, clean_telco_columns, train_val_test, perform_chi_squared_test, perform_t_test"
   ]
  },
  {
   "cell_type": "markdown",
   "id": "f32ca1ba-3ac3-4e45-a52e-b57656d88c1f",
   "metadata": {},
   "source": [
    "## Acquire\n",
    "\n",
    "- Acquiring specific columns that i need for the project from the telco_churn dataset using sql.\n",
    "- Read the sql query into a dataframe.\n",
    "- It contained 7_043 rows and 24 columns before cleaning"
   ]
  },
  {
   "cell_type": "markdown",
   "id": "c5002ce7-f3a9-424a-9653-44584b7c24bc",
   "metadata": {},
   "source": [
    "## Prepare data\n",
    "\n",
    "* Create new columns by transforming and utilizing existing data features.\n",
    "    - Drop the customer_id column\n",
    "    - Check all rows in the df with no/null values and replacing them with an appropriate value.\n",
    "    - Group different values in the columns and make them categorical if needed.\n",
    "    - One-hot encode categorical culomns with get dummies.\n",
    "    - Drop all the encoded columns that are not useful."
   ]
  },
  {
   "cell_type": "markdown",
   "id": "44192ddb-842d-4aa7-a033-6391001a3d75",
   "metadata": {},
   "source": [
    "## Data Dictionary\n",
    "\n",
    "| Feature                | Definition | Data Type |\n",
    "|:-----------------------|:-----------|:----------|\n",
    "| gender                 | Gender of the customer | Object |\n",
    "| senior_citizen         | 0 if not a senior citizen, 1 if a senior citizen | Integer |\n",
    "| partner                | Whether the customer has a partner (Yes/No) | Object |\n",
    "| dependents             | Whether the customer has dependents (Yes/No) | Object |\n",
    "| tenure                 | Number of months the customer has been with the company | Integer |\n",
    "| phone_service          | Whether the customer has phone service (Yes/No) | Object |\n",
    "| multiple_lines         | Whether the customer has multiple lines (Yes/No) | Object |\n",
    "| online_security        | Whether the customer has online security (Yes/No) | Object |\n",
    "| online_backup          | Whether the customer has online backup (Yes/No) | Object |\n",
    "| device_protection      | Whether the customer has device protection (Yes/No) | Object |\n",
    "| tech_support           | Whether the customer has tech support (Yes/No) | Object |\n",
    "| streaming_tv           | Whether the customer has streaming TV (Yes/No) | Object |\n",
    "| streaming_movies       | Whether the customer has streaming movies (Yes/No) | Object |\n",
    "| paperless_billing      | Whether the customer has paperless billing (Yes/No) | Object |\n",
    "| monthly_charges        | Monthly charges for the customer | Float |\n",
    "| total_charges          | Total charges incurred by the customer | Object |\n",
    "| churn                  | Whether the customer has churned (Yes/No) | Object |\n",
    "| payment_type           | Method of payment for the service | Object |\n",
    "| contract_type          | Type of contract (e.g., Month-to-Month, One/Two Years) | Object |\n",
    "| internet_service_type  | Type of internet service (e.g., DSL, Fiber optic) | Object |\n"
   ]
  },
  {
   "cell_type": "code",
   "execution_count": 31,
   "id": "bdc6bf8d-5a31-490e-bc35-c0f3051f5364",
   "metadata": {},
   "outputs": [],
   "source": [
    "# acquiring, cleaning, and adding features to data\n",
    "telco_df = get_telco_data()\n",
    "\n",
    "# splitting data into train, validate, and test\n",
    "train, val, test = train_val_test(telco_df, strat = 'churn')"
   ]
  },
  {
   "cell_type": "markdown",
   "id": "8d21ef09-3e65-41fa-bb31-a84a843b1a88",
   "metadata": {},
   "source": [
    "### A quick overview of the data"
   ]
  },
  {
   "cell_type": "code",
   "execution_count": 32,
   "id": "f37ee668-ccf2-461e-b374-56cd685ed147",
   "metadata": {},
   "outputs": [
    {
     "data": {
      "text/html": [
       "<div>\n",
       "<style scoped>\n",
       "    .dataframe tbody tr th:only-of-type {\n",
       "        vertical-align: middle;\n",
       "    }\n",
       "\n",
       "    .dataframe tbody tr th {\n",
       "        vertical-align: top;\n",
       "    }\n",
       "\n",
       "    .dataframe thead th {\n",
       "        text-align: right;\n",
       "    }\n",
       "</style>\n",
       "<table border=\"1\" class=\"dataframe\">\n",
       "  <thead>\n",
       "    <tr style=\"text-align: right;\">\n",
       "      <th></th>\n",
       "      <th>customer_id</th>\n",
       "      <th>gender</th>\n",
       "      <th>senior_citizen</th>\n",
       "      <th>partner</th>\n",
       "      <th>dependents</th>\n",
       "      <th>tenure</th>\n",
       "      <th>phone_service</th>\n",
       "      <th>multiple_lines</th>\n",
       "      <th>online_security</th>\n",
       "      <th>online_backup</th>\n",
       "      <th>...</th>\n",
       "      <th>tech_support</th>\n",
       "      <th>streaming_tv</th>\n",
       "      <th>streaming_movies</th>\n",
       "      <th>paperless_billing</th>\n",
       "      <th>monthly_charges</th>\n",
       "      <th>total_charges</th>\n",
       "      <th>churn</th>\n",
       "      <th>payment_type</th>\n",
       "      <th>contract_type</th>\n",
       "      <th>internet_service_type</th>\n",
       "    </tr>\n",
       "  </thead>\n",
       "  <tbody>\n",
       "    <tr>\n",
       "      <th>5609</th>\n",
       "      <td>7901-HXJVA</td>\n",
       "      <td>Male</td>\n",
       "      <td>0</td>\n",
       "      <td>No</td>\n",
       "      <td>No</td>\n",
       "      <td>14</td>\n",
       "      <td>Yes</td>\n",
       "      <td>No</td>\n",
       "      <td>No</td>\n",
       "      <td>No</td>\n",
       "      <td>...</td>\n",
       "      <td>No</td>\n",
       "      <td>No</td>\n",
       "      <td>No</td>\n",
       "      <td>No</td>\n",
       "      <td>76.45</td>\n",
       "      <td>1117.55</td>\n",
       "      <td>False</td>\n",
       "      <td>Manual Payment</td>\n",
       "      <td>Month-to-month</td>\n",
       "      <td>Fiber optic</td>\n",
       "    </tr>\n",
       "    <tr>\n",
       "      <th>2209</th>\n",
       "      <td>3164-AALRN</td>\n",
       "      <td>Male</td>\n",
       "      <td>0</td>\n",
       "      <td>No</td>\n",
       "      <td>No</td>\n",
       "      <td>5</td>\n",
       "      <td>Yes</td>\n",
       "      <td>No</td>\n",
       "      <td>No</td>\n",
       "      <td>No</td>\n",
       "      <td>...</td>\n",
       "      <td>No</td>\n",
       "      <td>Yes</td>\n",
       "      <td>Yes</td>\n",
       "      <td>Yes</td>\n",
       "      <td>70.00</td>\n",
       "      <td>347.4</td>\n",
       "      <td>True</td>\n",
       "      <td>Manual Payment</td>\n",
       "      <td>one/two-years</td>\n",
       "      <td>DSL</td>\n",
       "    </tr>\n",
       "    <tr>\n",
       "      <th>6919</th>\n",
       "      <td>9821-POOTN</td>\n",
       "      <td>Male</td>\n",
       "      <td>0</td>\n",
       "      <td>Yes</td>\n",
       "      <td>No</td>\n",
       "      <td>35</td>\n",
       "      <td>Yes</td>\n",
       "      <td>Yes</td>\n",
       "      <td>No</td>\n",
       "      <td>No</td>\n",
       "      <td>...</td>\n",
       "      <td>No</td>\n",
       "      <td>No</td>\n",
       "      <td>No</td>\n",
       "      <td>Yes</td>\n",
       "      <td>75.20</td>\n",
       "      <td>2576.2</td>\n",
       "      <td>True</td>\n",
       "      <td>Manual Payment</td>\n",
       "      <td>Month-to-month</td>\n",
       "      <td>Fiber optic</td>\n",
       "    </tr>\n",
       "    <tr>\n",
       "      <th>2284</th>\n",
       "      <td>3259-QMXUN</td>\n",
       "      <td>Male</td>\n",
       "      <td>0</td>\n",
       "      <td>Yes</td>\n",
       "      <td>No</td>\n",
       "      <td>58</td>\n",
       "      <td>Yes</td>\n",
       "      <td>Yes</td>\n",
       "      <td>Yes</td>\n",
       "      <td>Yes</td>\n",
       "      <td>...</td>\n",
       "      <td>No</td>\n",
       "      <td>Yes</td>\n",
       "      <td>Yes</td>\n",
       "      <td>Yes</td>\n",
       "      <td>86.10</td>\n",
       "      <td>4890.5</td>\n",
       "      <td>False</td>\n",
       "      <td>Manual Payment</td>\n",
       "      <td>one/two-years</td>\n",
       "      <td>DSL</td>\n",
       "    </tr>\n",
       "    <tr>\n",
       "      <th>845</th>\n",
       "      <td>1226-UDFZR</td>\n",
       "      <td>Female</td>\n",
       "      <td>0</td>\n",
       "      <td>No</td>\n",
       "      <td>No</td>\n",
       "      <td>2</td>\n",
       "      <td>Yes</td>\n",
       "      <td>No</td>\n",
       "      <td>No</td>\n",
       "      <td>Yes</td>\n",
       "      <td>...</td>\n",
       "      <td>No</td>\n",
       "      <td>No</td>\n",
       "      <td>No</td>\n",
       "      <td>Yes</td>\n",
       "      <td>49.60</td>\n",
       "      <td>114.7</td>\n",
       "      <td>True</td>\n",
       "      <td>Manual Payment</td>\n",
       "      <td>Month-to-month</td>\n",
       "      <td>DSL</td>\n",
       "    </tr>\n",
       "  </tbody>\n",
       "</table>\n",
       "<p>5 rows × 21 columns</p>\n",
       "</div>"
      ],
      "text/plain": [
       "     customer_id  gender  senior_citizen partner dependents  tenure  \\\n",
       "5609  7901-HXJVA    Male               0      No         No      14   \n",
       "2209  3164-AALRN    Male               0      No         No       5   \n",
       "6919  9821-POOTN    Male               0     Yes         No      35   \n",
       "2284  3259-QMXUN    Male               0     Yes         No      58   \n",
       "845   1226-UDFZR  Female               0      No         No       2   \n",
       "\n",
       "     phone_service multiple_lines online_security online_backup  ...  \\\n",
       "5609           Yes             No              No            No  ...   \n",
       "2209           Yes             No              No            No  ...   \n",
       "6919           Yes            Yes              No            No  ...   \n",
       "2284           Yes            Yes             Yes           Yes  ...   \n",
       "845            Yes             No              No           Yes  ...   \n",
       "\n",
       "     tech_support streaming_tv streaming_movies paperless_billing  \\\n",
       "5609           No           No               No                No   \n",
       "2209           No          Yes              Yes               Yes   \n",
       "6919           No           No               No               Yes   \n",
       "2284           No          Yes              Yes               Yes   \n",
       "845            No           No               No               Yes   \n",
       "\n",
       "     monthly_charges  total_charges  churn    payment_type   contract_type  \\\n",
       "5609           76.45        1117.55  False  Manual Payment  Month-to-month   \n",
       "2209           70.00          347.4   True  Manual Payment   one/two-years   \n",
       "6919           75.20         2576.2   True  Manual Payment  Month-to-month   \n",
       "2284           86.10         4890.5  False  Manual Payment   one/two-years   \n",
       "845            49.60          114.7   True  Manual Payment  Month-to-month   \n",
       "\n",
       "     internet_service_type  \n",
       "5609           Fiber optic  \n",
       "2209                   DSL  \n",
       "6919           Fiber optic  \n",
       "2284                   DSL  \n",
       "845                    DSL  \n",
       "\n",
       "[5 rows x 21 columns]"
      ]
     },
     "execution_count": 32,
     "metadata": {},
     "output_type": "execute_result"
    }
   ],
   "source": [
    "train.head()"
   ]
  },
  {
   "cell_type": "markdown",
   "id": "266be6ad-78bd-463d-a7b6-d231ca8f7006",
   "metadata": {},
   "source": [
    "### A concise summary of the data"
   ]
  },
  {
   "cell_type": "code",
   "execution_count": 33,
   "id": "919a8950-d5ca-47d5-b665-fb335bcbd67c",
   "metadata": {},
   "outputs": [
    {
     "data": {
      "text/plain": [
       "contract_type\n",
       "Month-to-month    2693\n",
       "one/two-years     2237\n",
       "Name: count, dtype: int64"
      ]
     },
     "execution_count": 33,
     "metadata": {},
     "output_type": "execute_result"
    }
   ],
   "source": [
    "train.contract_type.value_counts()"
   ]
  },
  {
   "cell_type": "code",
   "execution_count": 34,
   "id": "2d1f5ba0-cd02-4620-8a4a-c8a4a540dca0",
   "metadata": {},
   "outputs": [
    {
     "name": "stdout",
     "output_type": "stream",
     "text": [
      "<class 'pandas.core.frame.DataFrame'>\n",
      "Index: 4930 entries, 5609 to 5679\n",
      "Data columns (total 21 columns):\n",
      " #   Column                 Non-Null Count  Dtype  \n",
      "---  ------                 --------------  -----  \n",
      " 0   customer_id            4930 non-null   object \n",
      " 1   gender                 4930 non-null   object \n",
      " 2   senior_citizen         4930 non-null   int64  \n",
      " 3   partner                4930 non-null   object \n",
      " 4   dependents             4930 non-null   object \n",
      " 5   tenure                 4930 non-null   int64  \n",
      " 6   phone_service          4930 non-null   object \n",
      " 7   multiple_lines         4930 non-null   object \n",
      " 8   online_security        4930 non-null   object \n",
      " 9   online_backup          4930 non-null   object \n",
      " 10  device_protection      4930 non-null   object \n",
      " 11  tech_support           4930 non-null   object \n",
      " 12  streaming_tv           4930 non-null   object \n",
      " 13  streaming_movies       4930 non-null   object \n",
      " 14  paperless_billing      4930 non-null   object \n",
      " 15  monthly_charges        4930 non-null   float64\n",
      " 16  total_charges          4930 non-null   object \n",
      " 17  churn                  4930 non-null   bool   \n",
      " 18  payment_type           4930 non-null   object \n",
      " 19  contract_type          4930 non-null   object \n",
      " 20  internet_service_type  4930 non-null   object \n",
      "dtypes: bool(1), float64(1), int64(2), object(17)\n",
      "memory usage: 813.6+ KB\n"
     ]
    }
   ],
   "source": [
    "train.info()"
   ]
  },
  {
   "cell_type": "markdown",
   "id": "761553d5-669b-4739-a0d8-d6b48e612da8",
   "metadata": {},
   "source": [
    "## Explore"
   ]
  },
  {
   "cell_type": "markdown",
   "id": "8492acea-9398-49be-afb4-86b87dd72024",
   "metadata": {},
   "source": [
    "## Chi^2 test"
   ]
  },
  {
   "cell_type": "markdown",
   "id": "ed964b9f-2963-47cb-88f8-ecc90151c6ef",
   "metadata": {},
   "source": [
    "#### Does having tech support affects churn?"
   ]
  },
  {
   "cell_type": "markdown",
   "id": "b2fcdae2-4d8a-4641-b9f2-377a7ed29d16",
   "metadata": {},
   "source": [
    "Null hypothesis: Having tech support DOES NOT affect churn.\n",
    "\n",
    "Alternative hypothesis: Having tech support AFFECTS churn."
   ]
  },
  {
   "cell_type": "code",
   "execution_count": 35,
   "id": "cc77daf4-c5d4-46c7-9b3a-dabea86079e6",
   "metadata": {},
   "outputs": [
    {
     "data": {
      "text/plain": [
       "('we reject the null hypothesis. There appears to be a relationship',\n",
       " 4.700462998703674e-128)"
      ]
     },
     "execution_count": 35,
     "metadata": {},
     "output_type": "execute_result"
    }
   ],
   "source": [
    "#using the perform_chi_squared_test function to find the value of p\n",
    "\n",
    "perform_chi_squared_test(train, 'churn', 'tech_support', alpha = 0.05)"
   ]
  },
  {
   "cell_type": "markdown",
   "id": "ef342644-3a23-4f01-bcdd-29c2e33e9aac",
   "metadata": {},
   "source": [
    "#### Takeaway"
   ]
  },
  {
   "cell_type": "markdown",
   "id": "3f0dbaaf-2979-4cae-a286-f9c689fe8de2",
   "metadata": {},
   "source": [
    "- The chi^2 test produced a p value of (4.700462998703674e-128) which is significantly lower than our cutoff of 0.05 indicating that there is a strong correlation between having tech support and churn.,"
   ]
  },
  {
   "cell_type": "markdown",
   "id": "674d25d8-0ab4-4a82-b503-e29bfb4df7ae",
   "metadata": {},
   "source": [
    "#### Creating a countplot to visualize the relationship between tech support and churn"
   ]
  },
  {
   "cell_type": "code",
   "execution_count": 36,
   "id": "4489d363-432e-4b9f-9db2-5956fee979d7",
   "metadata": {},
   "outputs": [
    {
     "data": {
      "image/png": "[encoded data removed]",
      "text/plain": [
       "<Figure size 800x600 with 1 Axes>"
      ]
     },
     "metadata": {},
     "output_type": "display_data"
    }
   ],
   "source": [
    "sns.set(style=\"whitegrid\")\n",
    "plt.figure(figsize=(8, 6))\n",
    "sns.countplot(data=telco_df, x='tech_support', hue='churn')\n",
    "plt.title(\"Tech support Distribution by Churn\")\n",
    "plt.xlabel(\"Tech support\")\n",
    "plt.ylabel(\"Count\")\n",
    "plt.show()"
   ]
  },
  {
   "cell_type": "markdown",
   "id": "50b59975-e688-4d6e-a01c-c5fa5218a4e4",
   "metadata": {},
   "source": [
    "#### takeaway from countplot"
   ]
  },
  {
   "cell_type": "markdown",
   "id": "e3d1d29c-50dc-4b45-836e-df64e8dbcb78",
   "metadata": {},
   "source": [
    "- We can observe that the presence of tech support does impact churn, as nearly half of customers without tech support have churned, in contrast to the fewer than 15% of customers with tech support who have churned."
   ]
  },
  {
   "cell_type": "markdown",
   "id": "d1f24ccb-4ae7-4411-b41c-3d5fbc12556f",
   "metadata": {},
   "source": [
    "## Independent t-test"
   ]
  },
  {
   "cell_type": "markdown",
   "id": "13702934-124d-4c15-a819-810209321713",
   "metadata": {},
   "source": [
    "#### Does tenure have a direct relationship with churn?\n"
   ]
  },
  {
   "cell_type": "markdown",
   "id": "4d60880c-12db-4a6d-a793-aa74f6d61c18",
   "metadata": {},
   "source": [
    "Null hypothesis: Tenure DOES NOT have a direct relationship with churn.\n",
    "\n",
    "Alternative hypothesis: Tenure has a direct relationship with churn."
   ]
  },
  {
   "cell_type": "code",
   "execution_count": 38,
   "id": "51b6bb1d-938b-40ff-928e-240d2c075fec",
   "metadata": {},
   "outputs": [
    {
     "data": {
      "text/plain": [
       "('Reject the null hypothesis: tenure has a significant effect on churn.',\n",
       " 1.6523707947511127e-170)"
      ]
     },
     "execution_count": 38,
     "metadata": {},
     "output_type": "execute_result"
    }
   ],
   "source": [
    "perform_t_test(train, 'tenure')"
   ]
  },
  {
   "cell_type": "markdown",
   "id": "da3c52ed-d51c-4c59-ae56-8c150e8ff085",
   "metadata": {},
   "source": [
    "#### Takeaway"
   ]
  },
  {
   "cell_type": "markdown",
   "id": "5ef6e597-0519-486c-b801-63d7ef97a2d3",
   "metadata": {},
   "source": [
    "The independent t-test produced a p value of (1.6523707947511127e-170) which is significantly lower than our cutoff of 0.05 indicating that there is a direct relationship between tenure and the churn."
   ]
  },
  {
   "cell_type": "markdown",
   "id": "6d9b68fb-90a7-4fff-9c54-e3531604fbb2",
   "metadata": {},
   "source": [
    "#### Creating a boxplot to visualize the relationship between tenure and churn"
   ]
  },
  {
   "cell_type": "code",
   "execution_count": 39,
   "id": "66965b95-e639-4907-a165-0000ebfd0afe",
   "metadata": {},
   "outputs": [
    {
     "data": {
      "image/png": "[encoded data removed]",
      "text/plain": [
       "<Figure size 800x500 with 1 Axes>"
      ]
     },
     "metadata": {},
     "output_type": "display_data"
    }
   ],
   "source": [
    "plt.figure(figsize=(8, 5))\n",
    "sns.boxplot(data=train, x='churn', y='tenure',palette={False: 'turquoise', True: 'orange'})\n",
    "plt.title('Average Tenure by Churn')\n",
    "plt.xlabel('Churn')\n",
    "plt.ylabel('Average Tenure')\n",
    "plt.legend(title='Churn', labels=[\"Not Churned\", \"Churned\"])\n",
    "plt.show()"
   ]
  },
  {
   "cell_type": "markdown",
   "id": "7df5990f-5c4d-4928-bb43-d3d933a61211",
   "metadata": {},
   "source": [
    "#### takeaway from boxplot"
   ]
  },
  {
   "cell_type": "markdown",
   "id": "009e772d-54e8-4328-9f6e-ffe0c69d1043",
   "metadata": {},
   "source": [
    "The above bar plot shows the average tenure for both churn groups and we can discern that the longer the customer is with the company the less likely it is for them to churn."
   ]
  },
  {
   "cell_type": "markdown",
   "id": "4b1c4cf3-715c-4a2f-98bf-f62341dbc7d1",
   "metadata": {},
   "source": [
    "## Chi^2 test"
   ]
  },
  {
   "cell_type": "markdown",
   "id": "1cdfb7cb-f926-4e41-8699-73cd951e89d1",
   "metadata": {},
   "source": [
    "#### Does the contract type affect churn?"
   ]
  },
  {
   "cell_type": "markdown",
   "id": "bca95cdd-eec8-4188-bb8a-44ba1ae3bce4",
   "metadata": {},
   "source": [
    "Null hypothesis : Contract type has NO relation to churn.\n",
    "\n",
    "Alternative hypothesis : Contract type HAS a relation to churn."
   ]
  },
  {
   "cell_type": "code",
   "execution_count": 40,
   "id": "81a8fa87-ccfc-4474-b456-df1df9230a45",
   "metadata": {},
   "outputs": [
    {
     "data": {
      "text/plain": [
       "('we reject the null hypothesis. There appears to be a relationship',\n",
       " 1.8766652889790652e-184)"
      ]
     },
     "execution_count": 40,
     "metadata": {},
     "output_type": "execute_result"
    }
   ],
   "source": [
    "perform_chi_squared_test(train, 'churn', 'contract_type')"
   ]
  },
  {
   "cell_type": "markdown",
   "id": "d0ce1e7b-106d-47dc-bdab-811784401d77",
   "metadata": {},
   "source": [
    "### Takeaway"
   ]
  },
  {
   "cell_type": "markdown",
   "id": "7b439b04-b1f9-4e5a-80eb-43910e6e40d5",
   "metadata": {},
   "source": [
    "- - The chi^2 test produced a p value of ( 1.8766652889790652e-184) which is significantly lower than our cutoff of 0.05 indicating that there is a strong correlation between contract type and churn."
   ]
  },
  {
   "cell_type": "markdown",
   "id": "ad4cc7e1-2e09-4bcb-865c-6d0c203ece0a",
   "metadata": {},
   "source": [
    "#### Creating a countplot to visualize the relationship between contract type and churn"
   ]
  },
  {
   "cell_type": "code",
   "execution_count": 41,
   "id": "1afaf917-5fff-40f5-9d6b-95730ea9ef7f",
   "metadata": {},
   "outputs": [
    {
     "data": {
      "image/png": "[encoded data removed]",
      "text/plain": [
       "<Figure size 800x600 with 1 Axes>"
      ]
     },
     "metadata": {},
     "output_type": "display_data"
    }
   ],
   "source": [
    "sns.set(style=\"whitegrid\")\n",
    "plt.figure(figsize=(8, 6))\n",
    "sns.countplot(data=telco_df, x='contract_type', hue='churn')\n",
    "plt.title(\"Tech support Distribution by Churn\")\n",
    "plt.xlabel(\"Tech support\")\n",
    "plt.ylabel(\"Count\")\n",
    "plt.show()"
   ]
  },
  {
   "cell_type": "markdown",
   "id": "0f722fa5-b392-4651-be22-d7c1c44f6863",
   "metadata": {},
   "source": [
    "#### Takeaway from boxplot"
   ]
  },
  {
   "cell_type": "markdown",
   "id": "9cfe5789-1a81-4d83-b028-461a3a15f60f",
   "metadata": {},
   "source": [
    "- We can observe that the presence of tech support does impact churn, as nearly half of customers without tech support have churned, in contrast to the fewer than 15% of customers with tech support who have churned."
   ]
  },
  {
   "cell_type": "markdown",
   "id": "d05786b9-e6b5-4b71-938b-8714575fcf94",
   "metadata": {},
   "source": [
    "- We can discern from the box plot that having a month to month contract significantly increases the probability of the customer churning."
   ]
  },
  {
   "cell_type": "markdown",
   "id": "c9a5db2f-7702-4695-8305-cdf9fd67d313",
   "metadata": {},
   "source": [
    "#### Does internet service type have a strong relationship with churn?"
   ]
  },
  {
   "cell_type": "code",
   "execution_count": 50,
   "id": "f123b93e-ca4e-403d-ac48-992f492776ba",
   "metadata": {},
   "outputs": [
    {
     "data": {
      "image/png": "[encoded data removed]",
      "text/plain": [
       "<Figure size 1000x600 with 1 Axes>"
      ]
     },
     "metadata": {},
     "output_type": "display_data"
    }
   ],
   "source": [
    "plt.figure(figsize=(10, 6))\n",
    "sns.countplot(data = train, x = 'internet_service_type', hue = 'churn')\n",
    "plt.xlabel('Internet Service Type')\n",
    "plt.ylabel('Churn')\n",
    "plt.title('Relationship between Internet Service Type and Churn')\n",
    "plt.xticks(rotation=45)\n",
    "plt.grid(True)\n",
    "plt.show()\n"
   ]
  },
  {
   "cell_type": "code",
   "execution_count": null,
   "id": "b1ecc8bb-4b4b-40d9-a020-5c01acddb1e5",
   "metadata": {},
   "outputs": [],
   "source": []
  },
  {
   "cell_type": "code",
   "execution_count": null,
   "id": "2115597c-41c5-47ef-87ef-53f3f391cd6c",
   "metadata": {},
   "outputs": [],
   "source": []
  },
  {
   "cell_type": "code",
   "execution_count": null,
   "id": "45b30781-a892-405a-b50c-ade674df6a1f",
   "metadata": {},
   "outputs": [],
   "source": []
  },
  {
   "cell_type": "markdown",
   "id": "8a264563-b857-4d0d-9ce3-911d2ce0fbb1",
   "metadata": {},
   "source": [
    " \n",
    "Does internet service type have a strong relationship with churn?  \n",
    "Does being a senior citizen affect churn   "
   ]
  },
  {
   "cell_type": "code",
   "execution_count": null,
   "id": "7fd96a03-e5ba-4cb3-9346-563bbfaa444a",
   "metadata": {},
   "outputs": [],
   "source": []
  },
  {
   "cell_type": "code",
   "execution_count": null,
   "id": "647e10a3-df2a-4eb7-ab37-e903a4927447",
   "metadata": {},
   "outputs": [],
   "source": []
  }
 ],
 "metadata": {
  "kernelspec": {
   "display_name": "Python 3 (ipykernel)",
   "language": "python",
   "name": "python3"
  },
  "language_info": {
   "codemirror_mode": {
    "name": "ipython",
    "version": 3
   },
   "file_extension": ".py",
   "mimetype": "text/x-python",
   "name": "python",
   "nbconvert_exporter": "python",
   "pygments_lexer": "ipython3",
   "version": "3.10.12"
  }
 },
 "nbformat": 4,
 "nbformat_minor": 5
}
